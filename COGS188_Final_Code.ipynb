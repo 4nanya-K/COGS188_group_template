{
 "cells": [
  {
   "cell_type": "code",
   "execution_count": 2,
   "id": "8e3164de-5e3f-469e-9c77-45e60b34e650",
   "metadata": {},
   "outputs": [
    {
     "name": "stdout",
     "output_type": "stream",
     "text": [
      "Requirement already satisfied: numpy in /Users/avajeong/miniforge3/lib/python3.12/site-packages (2.2.4)\n",
      "Requirement already satisfied: pandas in /Users/avajeong/miniforge3/lib/python3.12/site-packages (2.2.3)\n",
      "Requirement already satisfied: matplotlib in /Users/avajeong/miniforge3/lib/python3.12/site-packages (3.10.1)\n",
      "Requirement already satisfied: seaborn in /Users/avajeong/miniforge3/lib/python3.12/site-packages (0.13.2)\n",
      "Requirement already satisfied: scikit-learn in /Users/avajeong/miniforge3/lib/python3.12/site-packages (1.6.1)\n",
      "Requirement already satisfied: gym in /Users/avajeong/miniforge3/lib/python3.12/site-packages (0.26.2)\n",
      "Requirement already satisfied: gymnasium in /Users/avajeong/miniforge3/lib/python3.12/site-packages (1.0.0)\n",
      "Requirement already satisfied: stable-baselines3 in /Users/avajeong/miniforge3/lib/python3.12/site-packages (2.5.0)\n",
      "Requirement already satisfied: python-dateutil>=2.8.2 in /Users/avajeong/miniforge3/lib/python3.12/site-packages (from pandas) (2.9.0.post0)\n",
      "Requirement already satisfied: pytz>=2020.1 in /Users/avajeong/miniforge3/lib/python3.12/site-packages (from pandas) (2025.1)\n",
      "Requirement already satisfied: tzdata>=2022.7 in /Users/avajeong/miniforge3/lib/python3.12/site-packages (from pandas) (2025.1)\n",
      "Requirement already satisfied: contourpy>=1.0.1 in /Users/avajeong/miniforge3/lib/python3.12/site-packages (from matplotlib) (1.3.1)\n",
      "Requirement already satisfied: cycler>=0.10 in /Users/avajeong/miniforge3/lib/python3.12/site-packages (from matplotlib) (0.12.1)\n",
      "Requirement already satisfied: fonttools>=4.22.0 in /Users/avajeong/miniforge3/lib/python3.12/site-packages (from matplotlib) (4.56.0)\n",
      "Requirement already satisfied: kiwisolver>=1.3.1 in /Users/avajeong/miniforge3/lib/python3.12/site-packages (from matplotlib) (1.4.8)\n",
      "Requirement already satisfied: packaging>=20.0 in /Users/avajeong/miniforge3/lib/python3.12/site-packages (from matplotlib) (24.2)\n",
      "Requirement already satisfied: pillow>=8 in /Users/avajeong/miniforge3/lib/python3.12/site-packages (from matplotlib) (11.1.0)\n",
      "Requirement already satisfied: pyparsing>=2.3.1 in /Users/avajeong/miniforge3/lib/python3.12/site-packages (from matplotlib) (3.2.1)\n",
      "Requirement already satisfied: scipy>=1.6.0 in /Users/avajeong/miniforge3/lib/python3.12/site-packages (from scikit-learn) (1.15.2)\n",
      "Requirement already satisfied: joblib>=1.2.0 in /Users/avajeong/miniforge3/lib/python3.12/site-packages (from scikit-learn) (1.4.2)\n",
      "Requirement already satisfied: threadpoolctl>=3.1.0 in /Users/avajeong/miniforge3/lib/python3.12/site-packages (from scikit-learn) (3.6.0)\n",
      "Requirement already satisfied: cloudpickle>=1.2.0 in /Users/avajeong/miniforge3/lib/python3.12/site-packages (from gym) (3.1.1)\n",
      "Requirement already satisfied: gym_notices>=0.0.4 in /Users/avajeong/miniforge3/lib/python3.12/site-packages (from gym) (0.0.8)\n",
      "Requirement already satisfied: typing-extensions>=4.3.0 in /Users/avajeong/miniforge3/lib/python3.12/site-packages (from gymnasium) (4.12.2)\n",
      "Requirement already satisfied: farama-notifications>=0.0.1 in /Users/avajeong/miniforge3/lib/python3.12/site-packages (from gymnasium) (0.0.4)\n",
      "Requirement already satisfied: torch<3.0,>=2.3 in /Users/avajeong/miniforge3/lib/python3.12/site-packages (from stable-baselines3) (2.6.0)\n",
      "Requirement already satisfied: six>=1.5 in /Users/avajeong/miniforge3/lib/python3.12/site-packages (from python-dateutil>=2.8.2->pandas) (1.17.0)\n",
      "Requirement already satisfied: filelock in /Users/avajeong/miniforge3/lib/python3.12/site-packages (from torch<3.0,>=2.3->stable-baselines3) (3.18.0)\n",
      "Requirement already satisfied: networkx in /Users/avajeong/miniforge3/lib/python3.12/site-packages (from torch<3.0,>=2.3->stable-baselines3) (3.4.2)\n",
      "Requirement already satisfied: jinja2 in /Users/avajeong/miniforge3/lib/python3.12/site-packages (from torch<3.0,>=2.3->stable-baselines3) (3.1.6)\n",
      "Requirement already satisfied: fsspec in /Users/avajeong/miniforge3/lib/python3.12/site-packages (from torch<3.0,>=2.3->stable-baselines3) (2025.3.0)\n",
      "Requirement already satisfied: setuptools in /Users/avajeong/miniforge3/lib/python3.12/site-packages (from torch<3.0,>=2.3->stable-baselines3) (75.6.0)\n",
      "Requirement already satisfied: sympy==1.13.1 in /Users/avajeong/miniforge3/lib/python3.12/site-packages (from torch<3.0,>=2.3->stable-baselines3) (1.13.1)\n",
      "Requirement already satisfied: mpmath<1.4,>=1.1.0 in /Users/avajeong/miniforge3/lib/python3.12/site-packages (from sympy==1.13.1->torch<3.0,>=2.3->stable-baselines3) (1.3.0)\n",
      "Requirement already satisfied: MarkupSafe>=2.0 in /Users/avajeong/miniforge3/lib/python3.12/site-packages (from jinja2->torch<3.0,>=2.3->stable-baselines3) (3.0.2)\n"
     ]
    }
   ],
   "source": [
    "!pip install numpy pandas matplotlib seaborn scikit-learn gym gymnasium stable-baselines3"
   ]
  },
  {
   "cell_type": "code",
   "execution_count": null,
   "id": "01e86c18-323d-422f-a1ca-cfa5cf3f67a3",
   "metadata": {
    "scrolled": true
   },
   "outputs": [],
   "source": [
    "# Imports needed\n",
    "import pandas as pd\n",
    "import numpy as np\n",
    "import matplotlib.pyplot as plt\n",
    "import seaborn as sns\n",
    "import gym  \n",
    "import gymnasium as gym  \n",
    "from stable_baselines3 import DQN \n",
    "from sklearn.preprocessing import StandardScaler, MinMaxScaler\n",
    "from sklearn.model_selection import train_test_split\n",
    "from gym import spaces\n",
    "import warnings\n",
    "warnings.filterwarnings(\"ignore\")\n",
    "import random"
   ]
  },
  {
   "cell_type": "markdown",
   "id": "0384efe8-788d-477b-a4c9-d9ff9b5e43e1",
   "metadata": {},
   "source": [
    "# DataFrames"
   ]
  },
  {
   "cell_type": "code",
   "execution_count": null,
   "id": "aaac52ca-64a6-45dd-851e-5d6479b00ac6",
   "metadata": {
    "scrolled": true
   },
   "outputs": [],
   "source": [
    "poke_card = pd.read_csv('data/pokecard.csv')\n",
    "poke_card"
   ]
  },
  {
   "cell_type": "code",
   "execution_count": null,
   "id": "7cc0989d-596a-44e9-be29-34222e1b48cf",
   "metadata": {},
   "outputs": [],
   "source": [
    "mod_card_feb = pd.read_csv('data/modern_pkmn_cards_feb2025.csv')\n",
    "mod_card_feb"
   ]
  },
  {
   "cell_type": "code",
   "execution_count": null,
   "id": "d9cb906b-a925-4b2b-b7d8-699af63dbd1a",
   "metadata": {},
   "outputs": [],
   "source": [
    "mod_card_march = pd.read_csv('data/modern_pkmn_cards_mar2025.csv')\n",
    "mod_card_march"
   ]
  },
  {
   "cell_type": "code",
   "execution_count": null,
   "id": "47c7d0a1-7874-4b3f-ba2a-2c2a25236405",
   "metadata": {},
   "outputs": [],
   "source": [
    "vin_card_march = pd.read_csv('data/vintage_pkmn_cards_mar2025.csv')\n",
    "vin_card_march"
   ]
  },
  {
   "cell_type": "code",
   "execution_count": null,
   "id": "81e87a11-0bf5-4e8a-bfb7-74ecb6dea46b",
   "metadata": {},
   "outputs": [],
   "source": [
    "vin_card_feb = pd.read_csv('data/vintage_pkmn_cards_feb2025.csv')\n",
    "vin_card_feb"
   ]
  },
  {
   "cell_type": "code",
   "execution_count": null,
   "id": "1a26544d-6ad5-46c6-8ab2-ffa1ecce14b0",
   "metadata": {},
   "outputs": [],
   "source": []
  }
 ],
 "metadata": {
  "kernelspec": {
   "display_name": "Python 3 (ipykernel)",
   "language": "python",
   "name": "python3"
  },
  "language_info": {
   "codemirror_mode": {
    "name": "ipython",
    "version": 3
   },
   "file_extension": ".py",
   "mimetype": "text/x-python",
   "name": "python",
   "nbconvert_exporter": "python",
   "pygments_lexer": "ipython3",
   "version": "3.12.8"
  }
 },
 "nbformat": 4,
 "nbformat_minor": 5
}
